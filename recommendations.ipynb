{
 "cells": [
  {
   "cell_type": "markdown",
   "metadata": {},
   "source": [
    "# Recommendation system"
   ]
  },
  {
   "cell_type": "code",
   "execution_count": 168,
   "metadata": {},
   "outputs": [],
   "source": [
    "import pandas as pd"
   ]
  },
  {
   "cell_type": "code",
   "execution_count": 169,
   "metadata": {},
   "outputs": [
    {
     "data": {
      "text/html": [
       "<div>\n",
       "<style scoped>\n",
       "    .dataframe tbody tr th:only-of-type {\n",
       "        vertical-align: middle;\n",
       "    }\n",
       "\n",
       "    .dataframe tbody tr th {\n",
       "        vertical-align: top;\n",
       "    }\n",
       "\n",
       "    .dataframe thead th {\n",
       "        text-align: right;\n",
       "    }\n",
       "</style>\n",
       "<table border=\"1\" class=\"dataframe\">\n",
       "  <thead>\n",
       "    <tr style=\"text-align: right;\">\n",
       "      <th></th>\n",
       "      <th>id</th>\n",
       "      <th>title</th>\n",
       "      <th>voted</th>\n",
       "    </tr>\n",
       "  </thead>\n",
       "  <tbody>\n",
       "    <tr>\n",
       "      <th>266</th>\n",
       "      <td>946</td>\n",
       "      <td>Par nekustāmā īpašuma nodokļa atcelšanu vienīg...</td>\n",
       "      <td>29173</td>\n",
       "    </tr>\n",
       "    <tr>\n",
       "      <th>157</th>\n",
       "      <td>919</td>\n",
       "      <td>Atcelt pastāvošo ceļa nodokļa iekasēšanas mode...</td>\n",
       "      <td>24167</td>\n",
       "    </tr>\n",
       "    <tr>\n",
       "      <th>32</th>\n",
       "      <td>192</td>\n",
       "      <td>ATBILDĪBA par Saeimas deputāta zvēresta laušanu</td>\n",
       "      <td>17661</td>\n",
       "    </tr>\n",
       "    <tr>\n",
       "      <th>25</th>\n",
       "      <td>140</td>\n",
       "      <td>Noteikt pazemināto PVN likmi pārtikai</td>\n",
       "      <td>14640</td>\n",
       "    </tr>\n",
       "    <tr>\n",
       "      <th>308</th>\n",
       "      <td>1220</td>\n",
       "      <td>Par bilingvālās izglītības saglabāšanu</td>\n",
       "      <td>14355</td>\n",
       "    </tr>\n",
       "    <tr>\n",
       "      <th>62</th>\n",
       "      <td>350</td>\n",
       "      <td>FOTORADARI 15+</td>\n",
       "      <td>13039</td>\n",
       "    </tr>\n",
       "    <tr>\n",
       "      <th>295</th>\n",
       "      <td>185</td>\n",
       "      <td>Atlaistai Saeimai nepienākas papildu kompensāc...</td>\n",
       "      <td>12683</td>\n",
       "    </tr>\n",
       "    <tr>\n",
       "      <th>187</th>\n",
       "      <td>315</td>\n",
       "      <td>Rīgas īstā Uzvaras laukuma atjaunošana</td>\n",
       "      <td>12449</td>\n",
       "    </tr>\n",
       "    <tr>\n",
       "      <th>0</th>\n",
       "      <td>1</td>\n",
       "      <td>Atveram Saeimu!</td>\n",
       "      <td>12291</td>\n",
       "    </tr>\n",
       "    <tr>\n",
       "      <th>196</th>\n",
       "      <td>953</td>\n",
       "      <td>Pensija bez nodokļa</td>\n",
       "      <td>12271</td>\n",
       "    </tr>\n",
       "    <tr>\n",
       "      <th>1</th>\n",
       "      <td>2</td>\n",
       "      <td>Atveram ofšorus</td>\n",
       "      <td>12228</td>\n",
       "    </tr>\n",
       "    <tr>\n",
       "      <th>85</th>\n",
       "      <td>550</td>\n",
       "      <td>Par vienādu braukšanas maksu nerīdziniekiem</td>\n",
       "      <td>12121</td>\n",
       "    </tr>\n",
       "    <tr>\n",
       "      <th>31</th>\n",
       "      <td>189</td>\n",
       "      <td>Saglabāt latu kā Latvijas valūtu</td>\n",
       "      <td>11984</td>\n",
       "    </tr>\n",
       "    <tr>\n",
       "      <th>279</th>\n",
       "      <td>941</td>\n",
       "      <td>Transportlīdzekļu tehniskās apskates veikšana ...</td>\n",
       "      <td>11691</td>\n",
       "    </tr>\n",
       "    <tr>\n",
       "      <th>151</th>\n",
       "      <td>455</td>\n",
       "      <td>SAMAZINĀT PVN ELEKTRĪBAI UN GĀZEI</td>\n",
       "      <td>11689</td>\n",
       "    </tr>\n",
       "    <tr>\n",
       "      <th>72</th>\n",
       "      <td>454</td>\n",
       "      <td>Par kažokzvēru aizsardzību</td>\n",
       "      <td>11525</td>\n",
       "    </tr>\n",
       "    <tr>\n",
       "      <th>148</th>\n",
       "      <td>537</td>\n",
       "      <td>Visu gadu vasaras laiks, neveicot pāreju uz zi...</td>\n",
       "      <td>11513</td>\n",
       "    </tr>\n",
       "    <tr>\n",
       "      <th>200</th>\n",
       "      <td>842</td>\n",
       "      <td>“Lai vēzis būtu ārstējama slimība”</td>\n",
       "      <td>11499</td>\n",
       "    </tr>\n",
       "    <tr>\n",
       "      <th>150</th>\n",
       "      <td>646</td>\n",
       "      <td>Par atklātu balsojumu Valsts Prezidenta vēlēšanās</td>\n",
       "      <td>11458</td>\n",
       "    </tr>\n",
       "    <tr>\n",
       "      <th>263</th>\n",
       "      <td>979</td>\n",
       "      <td>Par iespēju saņemt atlīdzību par PET pudeļu un...</td>\n",
       "      <td>11444</td>\n",
       "    </tr>\n",
       "  </tbody>\n",
       "</table>\n",
       "</div>"
      ],
      "text/plain": [
       "       id                                              title  voted\n",
       "266   946  Par nekustāmā īpašuma nodokļa atcelšanu vienīg...  29173\n",
       "157   919  Atcelt pastāvošo ceļa nodokļa iekasēšanas mode...  24167\n",
       "32    192    ATBILDĪBA par Saeimas deputāta zvēresta laušanu  17661\n",
       "25    140              Noteikt pazemināto PVN likmi pārtikai  14640\n",
       "308  1220             Par bilingvālās izglītības saglabāšanu  14355\n",
       "62    350                                     FOTORADARI 15+  13039\n",
       "295   185  Atlaistai Saeimai nepienākas papildu kompensāc...  12683\n",
       "187   315             Rīgas īstā Uzvaras laukuma atjaunošana  12449\n",
       "0       1                                    Atveram Saeimu!  12291\n",
       "196   953                                Pensija bez nodokļa  12271\n",
       "1       2                                    Atveram ofšorus  12228\n",
       "85    550        Par vienādu braukšanas maksu nerīdziniekiem  12121\n",
       "31    189                   Saglabāt latu kā Latvijas valūtu  11984\n",
       "279   941  Transportlīdzekļu tehniskās apskates veikšana ...  11691\n",
       "151   455                  SAMAZINĀT PVN ELEKTRĪBAI UN GĀZEI  11689\n",
       "72    454                         Par kažokzvēru aizsardzību  11525\n",
       "148   537  Visu gadu vasaras laiks, neveicot pāreju uz zi...  11513\n",
       "200   842                 “Lai vēzis būtu ārstējama slimība”  11499\n",
       "150   646  Par atklātu balsojumu Valsts Prezidenta vēlēšanās  11458\n",
       "263   979  Par iespēju saņemt atlīdzību par PET pudeļu un...  11444"
      ]
     },
     "execution_count": 169,
     "metadata": {},
     "output_type": "execute_result"
    }
   ],
   "source": [
    "#read nodes and select one\n",
    "nodes = pd.read_csv('nodes.csv')\n",
    "# nodes = nodes.set_index(['id'])\n",
    "nodes.sort_values(by=['voted'], ascending=False).head(20)"
   ]
  },
  {
   "cell_type": "code",
   "execution_count": 170,
   "metadata": {},
   "outputs": [
    {
     "data": {
      "text/plain": [
       "array(['Pret lielajiem apkures rēķiniem', 53], dtype=object)"
      ]
     },
     "execution_count": 170,
     "metadata": {},
     "output_type": "execute_result"
    }
   ],
   "source": [
    "interested_in = 261\n",
    "nodes[nodes['id'] == interested_in][['title','voted']].values[0]\n"
   ]
  },
  {
   "cell_type": "markdown",
   "metadata": {},
   "source": [
    "## read votes and select recommendation"
   ]
  },
  {
   "cell_type": "code",
   "execution_count": 171,
   "metadata": {},
   "outputs": [],
   "source": [
    "edges = pd.read_csv('edges.csv')"
   ]
  },
  {
   "cell_type": "code",
   "execution_count": 175,
   "metadata": {},
   "outputs": [
    {
     "data": {
      "text/html": [
       "<div>\n",
       "<style scoped>\n",
       "    .dataframe tbody tr th:only-of-type {\n",
       "        vertical-align: middle;\n",
       "    }\n",
       "\n",
       "    .dataframe tbody tr th {\n",
       "        vertical-align: top;\n",
       "    }\n",
       "\n",
       "    .dataframe thead th {\n",
       "        text-align: right;\n",
       "    }\n",
       "</style>\n",
       "<table border=\"1\" class=\"dataframe\">\n",
       "  <thead>\n",
       "    <tr style=\"text-align: right;\">\n",
       "      <th></th>\n",
       "      <th>source</th>\n",
       "      <th>target</th>\n",
       "      <th>votes</th>\n",
       "    </tr>\n",
       "  </thead>\n",
       "  <tbody>\n",
       "    <tr>\n",
       "      <th>10500</th>\n",
       "      <td>192</td>\n",
       "      <td>261</td>\n",
       "      <td>16.0</td>\n",
       "    </tr>\n",
       "    <tr>\n",
       "      <th>7875</th>\n",
       "      <td>140</td>\n",
       "      <td>261</td>\n",
       "      <td>13.0</td>\n",
       "    </tr>\n",
       "    <tr>\n",
       "      <th>9921</th>\n",
       "      <td>185</td>\n",
       "      <td>261</td>\n",
       "      <td>11.0</td>\n",
       "    </tr>\n",
       "    <tr>\n",
       "      <th>13643</th>\n",
       "      <td>261</td>\n",
       "      <td>315</td>\n",
       "      <td>11.0</td>\n",
       "    </tr>\n",
       "    <tr>\n",
       "      <th>13076</th>\n",
       "      <td>247</td>\n",
       "      <td>261</td>\n",
       "      <td>10.0</td>\n",
       "    </tr>\n",
       "  </tbody>\n",
       "</table>\n",
       "</div>"
      ],
      "text/plain": [
       "       source  target  votes\n",
       "10500     192     261   16.0\n",
       "7875      140     261   13.0\n",
       "9921      185     261   11.0\n",
       "13643     261     315   11.0\n",
       "13076     247     261   10.0"
      ]
     },
     "execution_count": 175,
     "metadata": {},
     "output_type": "execute_result"
    }
   ],
   "source": [
    "res = edges.loc[(edges['source'] == interested_in) | (edges['target'] == interested_in)]\n",
    "rec = res.sort_values(by=['votes'], ascending=False).head(5)\n",
    "rec"
   ]
  },
  {
   "cell_type": "code",
   "execution_count": 173,
   "metadata": {},
   "outputs": [
    {
     "name": "stdout",
     "output_type": "stream",
     "text": [
      "If you voted for: Pret lielajiem apkures rēķiniem\n",
      "Recommended 1 : ATBILDĪBA par Saeimas deputāta zvēresta laušanu\n",
      "Recommended 2 : Noteikt pazemināto PVN likmi pārtikai\n",
      "Recommended 3 : Atlaistai Saeimai nepienākas papildu kompensācijas\n",
      "Recommended 4 : Rīgas īstā Uzvaras laukuma atjaunošana\n",
      "Recommended 5 : STOP ACTA\n"
     ]
    }
   ],
   "source": [
    "print('If you voted for: %s' % nodes[nodes['id'] == interested_in]['title'].values[0])\n",
    "place =  1\n",
    "rx = []\n",
    "for index, row in rec.iterrows():\n",
    "    if row.source == interested_in:\n",
    "        r = row.target\n",
    "    else:\n",
    "        r = row.source\n",
    "    print('Recommended %s : %s' % (place, nodes[nodes['id'] == r]['title'].values[0]))\n",
    "    rec_data = {}\n",
    "    rec_data['place'] = place\n",
    "    rec_data['initiative'] = nodes[nodes['id'] == r]['title'].values[0]\n",
    "    rx.append(rec_data)\n",
    "    place += 1"
   ]
  },
  {
   "cell_type": "code",
   "execution_count": 174,
   "metadata": {},
   "outputs": [
    {
     "data": {
      "text/plain": [
       "'[{\"place\": 1, \"initiative\": \"ATBILDĪBA par Saeimas deputāta zvēresta laušanu\"}, {\"place\": 2, \"initiative\": \"Noteikt pazemināto PVN likmi pārtikai\"}, {\"place\": 3, \"initiative\": \"Atlaistai Saeimai nepienākas papildu kompensācijas\"}, {\"place\": 4, \"initiative\": \"Rīgas īstā Uzvaras laukuma atjaunošana\"}, {\"place\": 5, \"initiative\": \"STOP ACTA\"}]'"
      ]
     },
     "execution_count": 174,
     "metadata": {},
     "output_type": "execute_result"
    }
   ],
   "source": [
    "import json\n",
    "json.dumps(rx, ensure_ascii=False)#.encode('utf8')\n"
   ]
  }
 ],
 "metadata": {
  "kernelspec": {
   "display_name": "Python 3",
   "language": "python",
   "name": "python3"
  },
  "language_info": {
   "codemirror_mode": {
    "name": "ipython",
    "version": 3
   },
   "file_extension": ".py",
   "mimetype": "text/x-python",
   "name": "python",
   "nbconvert_exporter": "python",
   "pygments_lexer": "ipython3",
   "version": "3.5.2"
  }
 },
 "nbformat": 4,
 "nbformat_minor": 2
}
